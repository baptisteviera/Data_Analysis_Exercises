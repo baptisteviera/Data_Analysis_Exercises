{
 "cells": [
  {
   "cell_type": "markdown",
   "metadata": {
    "cell_id": "258bf64b0c5148b091750b8a1b43a4e6",
    "deepnote_cell_type": "markdown"
   },
   "source": [
    "# PD1: Building a word count application\n",
    "## MTI850 - Big Data Analytics\n",
    "### Fall 2022"
   ]
  },
  {
   "cell_type": "markdown",
   "metadata": {
    "cell_id": "ef265b9c6e994885b3c385e1b2b7161f",
    "deepnote_cell_type": "markdown"
   },
   "source": [
    "<br>\n",
    "<br>    \n",
    "    \n",
    "| Equipe | 1                                   |\n",
    "|----------|---------------------------------------------------------|\n",
    "\n",
    "<br>\n",
    "<br>"
   ]
  },
  {
   "cell_type": "code",
   "execution_count": null,
   "metadata": {
    "cell_id": "5978143d5dc541f9b096fd08cba344aa",
    "deepnote_cell_type": "code",
    "deepnote_to_be_reexecuted": false,
    "execution_millis": 4811,
    "execution_start": 1664402978746,
    "source_hash": "1b622c9a",
    "tags": []
   },
   "outputs": [],
   "source": [
    "! sudo apt-get update\n",
    "! sudo mkdir -p /usr/share/man/man1\n",
    "! sudo apt-get install -y openjdk-11-jdk\n",
    "! pip install pyspark"
   ]
  },
  {
   "cell_type": "markdown",
   "metadata": {
    "cell_id": "c0470e36c5204a41b8325093571a05ef",
    "deepnote_cell_type": "markdown"
   },
   "source": [
    "\n",
    "![Spark Logo](https://github.com/alekoe/alekoe.github.io/blob/master/images/ta_Spark-logo-small.png?raw=true)![Python Logo](https://github.com/alekoe/alekoe.github.io/blob/master/images/python-logo-master-v3-TM-flattened_small.png?raw=true)\n",
    " \n",
    "\n",
    "The volume of unstructured text in existence is growing dramatically, and Spark is an excellent tool for analyzing this type of data.  In this lab, we will write code that calculates the most common words in the [Complete Works of William Shakespeare](http://www.gutenberg.org/ebooks/100) retrieved from [Project Gutenberg](http://www.gutenberg.org). This could also be scaled to larger applications, such as finding the most common words in Wikipedia.\n",
    "\n",
    "In this PD we will cover:\n",
    " * *Part 1:* Creating a base DataFrame and performing operations\n",
    " * *Part 2:* Counting with Spark SQL and DataFrames\n",
    " * *Part 3:* Finding unique words and a mean value\n",
    " * *Part 4:* Apply word count to a file\n",
    " \n",
    "Note that for reference, you can look up the details of the relevant methods in [Spark's Python API](https://spark.apache.org/docs/latest/api/python/reference/index.html).\n"
   ]
  },
  {
   "cell_type": "markdown",
   "metadata": {
    "cell_id": "ac9d7fd1528a4857b3f8f6ff0550f234",
    "deepnote_cell_type": "markdown"
   },
   "source": [
    "## Spark Context Initialization and Imports"
   ]
  },
  {
   "cell_type": "code",
   "execution_count": 2,
   "metadata": {
    "cell_id": "ad6f1daf061b47268139aca6596d1a8c",
    "deepnote_cell_type": "code",
    "deepnote_to_be_reexecuted": false,
    "execution_millis": 6372,
    "execution_start": 1664402983562,
    "source_hash": "7dc3e5ef"
   },
   "outputs": [],
   "source": [
    "import findspark\n",
    "findspark.init()\n",
    "\n",
    "# Test module for MTI850\n",
    "import testmti850\n",
    "\n",
    "# Util module for MTI850\n",
    "import utilmti850\n",
    "\n",
    "import pyspark\n",
    "\n",
    "from pyspark.sql import SparkSession\n",
    "\n",
    "spark = SparkSession.builder \\\n",
    ".master(\"local\") \\\n",
    ".appName(\"Web Server Log Analysis\") \\\n",
    ".config(\"spark.some.config.option\", \"some-value\") \\\n",
    ".getOrCreate()"
   ]
  },
  {
   "cell_type": "markdown",
   "metadata": {
    "cell_id": "a283c5f2f6b4494ca939d2b22c1e3da6",
    "deepnote_cell_type": "markdown"
   },
   "source": [
    "## Part 1: Creating a base DataFrame and performing operations\n",
    "\n",
    "In this part of the lab, we will explore creating a base DataFrame with `spark.createDataFrame` and using DataFrame operations to count words.\n"
   ]
  },
  {
   "cell_type": "markdown",
   "metadata": {
    "cell_id": "11271ca806244169a9fddce900d48b1c",
    "deepnote_cell_type": "markdown"
   },
   "source": [
    "### (1a) Create a DataFrame\n",
    " \n",
    " We'll start by generating a base DataFrame by using a Python list of tuples and the `spark.createDataFrame` method. Then we'll print out the type and schema of the DataFrame. The Python API has several examples for using the [`createDataFrame` method](http://spark.apache.org/docs/3.0.0/api/python/pyspark.sql.html#pyspark.sql.SQLContext.createDataFrame).\n"
   ]
  },
  {
   "cell_type": "code",
   "execution_count": 3,
   "metadata": {
    "cell_id": "968302983de545989d90a9422b343dc4",
    "deepnote_cell_type": "code",
    "deepnote_to_be_reexecuted": false,
    "execution_millis": 7206,
    "execution_start": 1664402989956,
    "scrolled": true,
    "source_hash": "14d23e2a"
   },
   "outputs": [
    {
     "name": "stdout",
     "output_type": "stream",
     "text": [
      "+--------+\n",
      "|    word|\n",
      "+--------+\n",
      "|     cat|\n",
      "|elephant|\n",
      "|     rat|\n",
      "|     rat|\n",
      "|     cat|\n",
      "+--------+\n",
      "\n",
      "<class 'pyspark.sql.dataframe.DataFrame'>\n",
      "root\n",
      " |-- word: string (nullable = true)\n",
      "\n"
     ]
    }
   ],
   "source": [
    "wordsDF = spark.createDataFrame([('cat',), ('elephant',), ('rat',), ('rat',), ('cat', )], ['word'])\n",
    "\n",
    "wordsDF.show()\n",
    "\n",
    "print (type(wordsDF))\n",
    "\n",
    "wordsDF.printSchema()"
   ]
  },
  {
   "cell_type": "markdown",
   "metadata": {
    "cell_id": "25d5ade3a1494517b5566e65877937a9",
    "deepnote_cell_type": "markdown"
   },
   "source": [
    "### DataFrame Visualization\n",
    "\n",
    "For a better visualization of a DataFrame you can use 'DataFrame.limit().toPandas().head()'"
   ]
  },
  {
   "cell_type": "code",
   "execution_count": 4,
   "metadata": {
    "cell_id": "d1fe4a18cf6342d59590edc48ebedb8c",
    "deepnote_cell_type": "code",
    "deepnote_to_be_reexecuted": false,
    "execution_millis": 235,
    "execution_start": 1664402997163,
    "source_hash": "63e36667"
   },
   "outputs": [
    {
     "data": {
      "text/html": [
       "<div>\n",
       "<style scoped>\n",
       "    .dataframe tbody tr th:only-of-type {\n",
       "        vertical-align: middle;\n",
       "    }\n",
       "\n",
       "    .dataframe tbody tr th {\n",
       "        vertical-align: top;\n",
       "    }\n",
       "\n",
       "    .dataframe thead th {\n",
       "        text-align: right;\n",
       "    }\n",
       "</style>\n",
       "<table border=\"1\" class=\"dataframe\">\n",
       "  <thead>\n",
       "    <tr style=\"text-align: right;\">\n",
       "      <th></th>\n",
       "      <th>word</th>\n",
       "    </tr>\n",
       "  </thead>\n",
       "  <tbody>\n",
       "    <tr>\n",
       "      <th>0</th>\n",
       "      <td>cat</td>\n",
       "    </tr>\n",
       "    <tr>\n",
       "      <th>1</th>\n",
       "      <td>elephant</td>\n",
       "    </tr>\n",
       "    <tr>\n",
       "      <th>2</th>\n",
       "      <td>rat</td>\n",
       "    </tr>\n",
       "    <tr>\n",
       "      <th>3</th>\n",
       "      <td>rat</td>\n",
       "    </tr>\n",
       "    <tr>\n",
       "      <th>4</th>\n",
       "      <td>cat</td>\n",
       "    </tr>\n",
       "  </tbody>\n",
       "</table>\n",
       "</div>"
      ],
      "text/plain": [
       "       word\n",
       "0       cat\n",
       "1  elephant\n",
       "2       rat\n",
       "3       rat\n",
       "4       cat"
      ]
     },
     "execution_count": 4,
     "metadata": {},
     "output_type": "execute_result"
    }
   ],
   "source": [
    "wordsDF.limit(5).toPandas().head()"
   ]
  },
  {
   "cell_type": "markdown",
   "metadata": {
    "cell_id": "07c1a6b8d7184767a2e0e5e214b57389",
    "deepnote_cell_type": "markdown"
   },
   "source": [
    "\n",
    "### (1b) Using DataFrame functions to add an 's'\n",
    "\n",
    "Let's create a new DataFrame from `wordsDF` by performing an operation that adds an 's' to each word. To do this, we'll call the [`select` DataFrame function](http://spark.apache.org/docs/3.0.0/api/python/pyspark.sql.html#pyspark.sql.DataFrame.select) and pass in a column that has the recipe for adding an 's' to our existing column.  To generate this `Column` object you should use the [`concat` function](http://spark.apache.org/docs/3.0.0/api/python/pyspark.sql.html#pyspark.sql.functions.concat) found in the [`pyspark.sql.functions` module](http://spark.apache.org/docs/3.0.0/api/python/pyspark.sql.html#module-pyspark.sql.functions). Note that `concat` takes in two or more string columns and returns a single string column. In order to pass in a constant or literal value like 's', you'll need to wrap that value with the [`lit` column function](http://spark.apache.org/docs/3.0.0/api/python/pyspark.sql.html#pyspark.sql.functions.lit).\n",
    "\n",
    "Please replace `<FILL IN>` with your solution.\n",
    "\n",
    "After you have created `pluralDF` you can run the next cell which contains two tests. If you implementation is correct it will print `1 test passed` for each test.\n",
    "\n",
    "This is the general form that exercises will take. Exercises will include an explanation of what is expected, followed by code cells where one cell will have one or more `<FILL IN>` sections.\n",
    "\n",
    "The cell that needs to be modified will have:\n",
    "\n",
    "<center>\n",
    "    \n",
    "`# TODO: Replace <FILL IN> with appropriate code`\n",
    "\n",
    "</center>\n",
    "\n",
    "on its first line.\n",
    "\n",
    "Once the `<FILL IN>` sections are updated and the code is run, the test cell can then be run to verify the correctness of your solution.  The last code cell before the next markdown section will contain the tests.\n",
    "\n",
    "> Note:Make sure that the resulting DataFrame has one column which is named 'word'."
   ]
  },
  {
   "cell_type": "code",
   "execution_count": 5,
   "metadata": {
    "cell_id": "724224e5d9874459b24e8f535c6898d4",
    "deepnote_cell_type": "code",
    "deepnote_to_be_reexecuted": false,
    "execution_millis": 572,
    "execution_start": 1664402997399,
    "scrolled": true,
    "source_hash": "4cb549d8"
   },
   "outputs": [
    {
     "name": "stdout",
     "output_type": "stream",
     "text": [
      "+---------+\n",
      "|     word|\n",
      "+---------+\n",
      "|     cats|\n",
      "|elephants|\n",
      "|     rats|\n",
      "|     rats|\n",
      "|     cats|\n",
      "+---------+\n",
      "\n"
     ]
    },
    {
     "data": {
      "text/html": [
       "<div>\n",
       "<style scoped>\n",
       "    .dataframe tbody tr th:only-of-type {\n",
       "        vertical-align: middle;\n",
       "    }\n",
       "\n",
       "    .dataframe tbody tr th {\n",
       "        vertical-align: top;\n",
       "    }\n",
       "\n",
       "    .dataframe thead th {\n",
       "        text-align: right;\n",
       "    }\n",
       "</style>\n",
       "<table border=\"1\" class=\"dataframe\">\n",
       "  <thead>\n",
       "    <tr style=\"text-align: right;\">\n",
       "      <th></th>\n",
       "      <th>word</th>\n",
       "    </tr>\n",
       "  </thead>\n",
       "  <tbody>\n",
       "    <tr>\n",
       "      <th>0</th>\n",
       "      <td>cats</td>\n",
       "    </tr>\n",
       "    <tr>\n",
       "      <th>1</th>\n",
       "      <td>elephants</td>\n",
       "    </tr>\n",
       "    <tr>\n",
       "      <th>2</th>\n",
       "      <td>rats</td>\n",
       "    </tr>\n",
       "    <tr>\n",
       "      <th>3</th>\n",
       "      <td>rats</td>\n",
       "    </tr>\n",
       "    <tr>\n",
       "      <th>4</th>\n",
       "      <td>cats</td>\n",
       "    </tr>\n",
       "  </tbody>\n",
       "</table>\n",
       "</div>"
      ],
      "text/plain": [
       "        word\n",
       "0       cats\n",
       "1  elephants\n",
       "2       rats\n",
       "3       rats\n",
       "4       cats"
      ]
     },
     "execution_count": 5,
     "metadata": {},
     "output_type": "execute_result"
    }
   ],
   "source": [
    "# TODO: Replace <FILL IN> with appropriate code\n",
    "from pyspark.sql.functions import lit, concat\n",
    "\n",
    "pluralDF = wordsDF.select(concat(wordsDF.word, lit(\"s\")).alias(\"word\"))\n",
    "\n",
    "\n",
    "pluralDF.show()\n",
    "pluralDF.limit(5).toPandas().head()"
   ]
  },
  {
   "cell_type": "markdown",
   "metadata": {
    "cell_id": "e1f8af841d634c22b7192a8f1ec037f9",
    "deepnote_cell_type": "markdown"
   },
   "source": [
    "### Test (1b)"
   ]
  },
  {
   "cell_type": "code",
   "execution_count": 6,
   "metadata": {
    "cell_id": "27662dd43c76425b8136fe1d057bfddf",
    "deepnote_cell_type": "code",
    "deepnote_to_be_reexecuted": false,
    "execution_millis": 1086,
    "execution_start": 1664402997974,
    "scrolled": true,
    "source_hash": "7575049e"
   },
   "outputs": [
    {
     "name": "stdout",
     "output_type": "stream",
     "text": [
      "1 test passed.\n",
      "1 test passed.\n"
     ]
    }
   ],
   "source": [
    "# TEST Using DataFrame functions to add an 's' (1b)\n",
    "testmti850.Test.assertEquals(pluralDF.first()[0], 'cats', 'incorrect result: you need to add an s')\n",
    "testmti850.Test.assertEquals(pluralDF.columns, ['word'], \"there should be one column named 'word'\")"
   ]
  },
  {
   "cell_type": "markdown",
   "metadata": {
    "cell_id": "7fa09ee63d874dd593d63684f52b7b7a",
    "deepnote_cell_type": "markdown"
   },
   "source": [
    "### (1c) Length of each word\n",
    " \n",
    " Now use the SQL `length` function to find the number of characters in each word.  The [`length` function](http://spark.apache.org/docs/3.0.0/api/python/pyspark.sql.html#pyspark.sql.functions.length) is found in the `pyspark.sql.functions` module.\n"
   ]
  },
  {
   "cell_type": "code",
   "execution_count": 7,
   "metadata": {
    "cell_id": "48473eaacfda46529c25ae61a2eff111",
    "deepnote_cell_type": "code",
    "deepnote_to_be_reexecuted": false,
    "execution_millis": 942,
    "execution_start": 1664402998187,
    "source_hash": "c6fa6761",
    "tags": []
   },
   "outputs": [
    {
     "name": "stdout",
     "output_type": "stream",
     "text": [
      "+-----------+\n",
      "|Length word|\n",
      "+-----------+\n",
      "|          4|\n",
      "|          9|\n",
      "|          4|\n",
      "|          4|\n",
      "|          4|\n",
      "+-----------+\n",
      "\n"
     ]
    },
    {
     "data": {
      "text/html": [
       "<div>\n",
       "<style scoped>\n",
       "    .dataframe tbody tr th:only-of-type {\n",
       "        vertical-align: middle;\n",
       "    }\n",
       "\n",
       "    .dataframe tbody tr th {\n",
       "        vertical-align: top;\n",
       "    }\n",
       "\n",
       "    .dataframe thead th {\n",
       "        text-align: right;\n",
       "    }\n",
       "</style>\n",
       "<table border=\"1\" class=\"dataframe\">\n",
       "  <thead>\n",
       "    <tr style=\"text-align: right;\">\n",
       "      <th></th>\n",
       "      <th>Length word</th>\n",
       "    </tr>\n",
       "  </thead>\n",
       "  <tbody>\n",
       "    <tr>\n",
       "      <th>0</th>\n",
       "      <td>4</td>\n",
       "    </tr>\n",
       "    <tr>\n",
       "      <th>1</th>\n",
       "      <td>9</td>\n",
       "    </tr>\n",
       "    <tr>\n",
       "      <th>2</th>\n",
       "      <td>4</td>\n",
       "    </tr>\n",
       "    <tr>\n",
       "      <th>3</th>\n",
       "      <td>4</td>\n",
       "    </tr>\n",
       "    <tr>\n",
       "      <th>4</th>\n",
       "      <td>4</td>\n",
       "    </tr>\n",
       "  </tbody>\n",
       "</table>\n",
       "</div>"
      ],
      "text/plain": [
       "   Length word\n",
       "0            4\n",
       "1            9\n",
       "2            4\n",
       "3            4\n",
       "4            4"
      ]
     },
     "execution_count": 7,
     "metadata": {},
     "output_type": "execute_result"
    }
   ],
   "source": [
    "# TODO: Replace <FILL IN> with appropriate code\n",
    "from pyspark.sql.functions import length\n",
    "\n",
    "pluralLengthsDF = pluralDF.select(length(pluralDF.word).alias(\"Length word\"))\n",
    "\n",
    "pluralLengthsDF.show()\n",
    "pluralLengthsDF.limit(5).toPandas().head()"
   ]
  },
  {
   "cell_type": "markdown",
   "metadata": {
    "cell_id": "68a8709c358f49d4b6090fde8582b973",
    "deepnote_cell_type": "markdown"
   },
   "source": [
    "### Test (1c)"
   ]
  },
  {
   "cell_type": "code",
   "execution_count": 8,
   "metadata": {
    "cell_id": "37d9391cbf8e414ea442d7250c0fb612",
    "deepnote_cell_type": "code",
    "deepnote_to_be_reexecuted": false,
    "execution_millis": 546,
    "execution_start": 1664402998666,
    "scrolled": true,
    "source_hash": "deb3bf46"
   },
   "outputs": [
    {
     "name": "stdout",
     "output_type": "stream",
     "text": [
      "1 test passed.\n"
     ]
    }
   ],
   "source": [
    "# TEST Length of each word (1c)\n",
    "from collections.abc import Iterable\n",
    "asSelf = lambda v: map(lambda r: r[0] if isinstance(r, Iterable) and len(r) == 1 else r, v)\n",
    "\n",
    "testmti850.Test.assertEquals(set(asSelf(pluralLengthsDF.collect())), {4, 9, 4, 4, 4},\n",
    "                  'incorrect values for pluralLengths')\n"
   ]
  },
  {
   "cell_type": "markdown",
   "metadata": {
    "cell_id": "31f2e2d48fac4dfdaaf7619afc82d383",
    "deepnote_cell_type": "markdown"
   },
   "source": [
    "## Part 2: Counting with Spark SQL and DataFrames\n",
    "\n",
    "Now, let's count the number of times a particular word appears in the 'word' column. There are multiple ways to perform the counting, but some are much less efficient than others.\n",
    " \n",
    "A naive approach would be to call `collect` on all of the elements and count them in the driver program. While this approach could work for small datasets, we want an approach that will work for any size dataset including terabyte- or petabyte-sized datasets. In addition, performing all of the work in the driver program is slower than performing it in parallel in the workers. For these reasons, we will use data parallel operations.\n"
   ]
  },
  {
   "cell_type": "code",
   "execution_count": 9,
   "metadata": {
    "cell_id": "01a37a46e9814f769ba6bffcf086c4b5",
    "deepnote_cell_type": "code",
    "deepnote_to_be_reexecuted": false,
    "execution_millis": 1408,
    "execution_start": 1664402998868,
    "source_hash": "e5c4c8ca",
    "tags": []
   },
   "outputs": [
    {
     "name": "stdout",
     "output_type": "stream",
     "text": [
      "+--------+-----+\n",
      "|    word|count|\n",
      "+--------+-----+\n",
      "|     rat|    2|\n",
      "|     cat|    2|\n",
      "|elephant|    1|\n",
      "+--------+-----+\n",
      "\n"
     ]
    }
   ],
   "source": [
    "# TODO: Replace <FILL IN> with appropriate code\n",
    "\n",
    "wordCountsDF = wordsDF.groupBy(\"word\").count()\n",
    "\n",
    "wordCountsDF.show()"
   ]
  },
  {
   "cell_type": "markdown",
   "metadata": {
    "cell_id": "76a924750fce4534afa94521e36cc79e",
    "deepnote_cell_type": "markdown"
   },
   "source": [
    "### Test (2a)"
   ]
  },
  {
   "cell_type": "code",
   "execution_count": 10,
   "metadata": {
    "cell_id": "7879e3315ec241048aaae7b4bbc5e2f9",
    "deepnote_cell_type": "code",
    "deepnote_to_be_reexecuted": false,
    "execution_millis": 379,
    "execution_start": 1664403000277,
    "scrolled": true,
    "source_hash": "36e2ed9b"
   },
   "outputs": [
    {
     "name": "stdout",
     "output_type": "stream",
     "text": [
      "1 test passed.\n"
     ]
    }
   ],
   "source": [
    "# TEST groupBy and count (2a)\n",
    "testmti850.Test.assertEquals(set(wordCountsDF.collect()), {('rat', 2), ('elephant', 1), ('cat', 2)},\n",
    "                 'incorrect counts for wordCountsDF')"
   ]
  },
  {
   "cell_type": "markdown",
   "metadata": {
    "cell_id": "caaa6f7d498f4532a5500960bbdafb4a",
    "deepnote_cell_type": "markdown"
   },
   "source": [
    "## Part 3: Finding unique words and a mean value"
   ]
  },
  {
   "cell_type": "markdown",
   "metadata": {
    "cell_id": "3fb4c42ca7c4466498b081fba532eba2",
    "deepnote_cell_type": "markdown"
   },
   "source": [
    "### (3a) Unique words\n",
    "\n",
    "Calculate the number of unique words in `wordsDF`.  You can use other DataFrames that you have already created to make this easier.\n"
   ]
  },
  {
   "cell_type": "code",
   "execution_count": 11,
   "metadata": {
    "cell_id": "87b7b5a926e545e194233255ec7a5e02",
    "deepnote_cell_type": "code",
    "deepnote_to_be_reexecuted": false,
    "execution_millis": 129,
    "execution_start": 1664403000656,
    "scrolled": true,
    "source_hash": "435c6ebe"
   },
   "outputs": [
    {
     "name": "stdout",
     "output_type": "stream",
     "text": [
      "wordsDF: ['word']\n",
      "pluralDF: ['word']\n",
      "pluralLengthsDF: ['Length word']\n",
      "wordCountsDF: ['word', 'count']\n"
     ]
    }
   ],
   "source": [
    "#This function returns all the DataFrames in the notebook and their corresponding column names.\n",
    "utilmti850.printDataFrames(True)"
   ]
  },
  {
   "cell_type": "code",
   "execution_count": 12,
   "metadata": {
    "cell_id": "e2b194cbb93e42069864a157e6ad07c3",
    "deepnote_cell_type": "code",
    "deepnote_to_be_reexecuted": false,
    "execution_millis": 1310,
    "execution_start": 1664403000789,
    "source_hash": "d3b565f0",
    "tags": []
   },
   "outputs": [
    {
     "name": "stdout",
     "output_type": "stream",
     "text": [
      "3\n"
     ]
    }
   ],
   "source": [
    "# TODO: Replace <FILL IN> with appropriate code\n",
    "\n",
    "uniqueWordsCount = wordCountsDF.count()\n",
    "\n",
    "print (uniqueWordsCount)"
   ]
  },
  {
   "cell_type": "markdown",
   "metadata": {
    "cell_id": "bbe4191d5d5e44768a90bb3439fdb7a3",
    "deepnote_cell_type": "markdown"
   },
   "source": [
    "### Test (3a)"
   ]
  },
  {
   "cell_type": "code",
   "execution_count": 13,
   "metadata": {
    "cell_id": "69233df9a9ea49a188ee0a402deefe46",
    "deepnote_cell_type": "code",
    "deepnote_to_be_reexecuted": false,
    "execution_millis": 717,
    "execution_start": 1664403001387,
    "scrolled": true,
    "source_hash": "6237a14f"
   },
   "outputs": [
    {
     "name": "stdout",
     "output_type": "stream",
     "text": [
      "1 test passed.\n"
     ]
    }
   ],
   "source": [
    "# TEST Unique words (3a)\n",
    "testmti850.Test.assertEquals(uniqueWordsCount, 3, 'incorrect count of unique words')"
   ]
  },
  {
   "cell_type": "markdown",
   "metadata": {
    "cell_id": "63cc719de177495bacdb49c9934d13c7",
    "deepnote_cell_type": "markdown"
   },
   "source": [
    "### (3b) Means of groups using DataFrames\n",
    "\n",
    "Find the mean number of occurrences of words in `wordCountsDF`.\n",
    "\n",
    "You should use the [`mean` GroupedData method](http://spark.apache.org/docs/3.0.0/api/python/pyspark.sql.html#pyspark.sql.GroupedData.mean) to accomplish this.  Note that when you use `groupBy` you don't need to pass in any columns.  A call without columns just prepares the DataFrame so that aggregation functions like `mean` can be applied.\n"
   ]
  },
  {
   "cell_type": "code",
   "execution_count": 14,
   "metadata": {
    "cell_id": "5bef5e37b56546dd8a7e7cb60552503c",
    "deepnote_cell_type": "code",
    "deepnote_to_be_reexecuted": false,
    "execution_millis": 650,
    "execution_start": 1664403001458,
    "scrolled": true,
    "source_hash": "ca506b6d"
   },
   "outputs": [
    {
     "name": "stdout",
     "output_type": "stream",
     "text": [
      "1.6666666666666667\n"
     ]
    }
   ],
   "source": [
    "# TODO: Replace <FILL IN> with appropriate code\n",
    "\n",
    "averageCount = (wordCountsDF.groupBy().mean('count')).take(1)[0][0]\n",
    "\n",
    "print (averageCount)"
   ]
  },
  {
   "cell_type": "markdown",
   "metadata": {
    "cell_id": "62659700af43408094d4d785d3e05739",
    "deepnote_cell_type": "markdown"
   },
   "source": [
    "### Test (3b)"
   ]
  },
  {
   "cell_type": "code",
   "execution_count": 15,
   "metadata": {
    "cell_id": "432fe67d9560414584081c2777f26d0a",
    "deepnote_cell_type": "code",
    "deepnote_to_be_reexecuted": false,
    "execution_millis": 49,
    "execution_start": 1664403002061,
    "scrolled": true,
    "source_hash": "b0b635f6"
   },
   "outputs": [
    {
     "name": "stdout",
     "output_type": "stream",
     "text": [
      "1 test passed.\n"
     ]
    }
   ],
   "source": [
    "# TEST Means of groups using DataFrames (3b)\n",
    "testmti850.Test.assertEquals(round(averageCount, 2), 1.67, 'incorrect value of averageCount')"
   ]
  },
  {
   "cell_type": "markdown",
   "metadata": {
    "cell_id": "0d18f8784b13453cb97f4f1cbfafd1c8",
    "deepnote_cell_type": "markdown"
   },
   "source": [
    "## Part 4: Apply word count to a file\n",
    "\n",
    "In this section we will finish developing our word count application.  We'll have to build the `wordCount` function, deal with real world problems like capitalization and punctuation, load in our data source, and compute the word count on the new data.\n"
   ]
  },
  {
   "cell_type": "markdown",
   "metadata": {
    "cell_id": "e7ead1a536d7437d88fdfeb42a9748a9",
    "deepnote_cell_type": "markdown"
   },
   "source": [
    "### (4a) The `wordCount` function\n",
    " \n",
    "First, define a function for word counting.  You should reuse the techniques that have been covered in earlier parts of this lab.  This function should take in a DataFrame that is a list of words like `wordsDF` and return a DataFrame that has all of the words and their associated counts.\n"
   ]
  },
  {
   "cell_type": "code",
   "execution_count": 16,
   "metadata": {
    "cell_id": "51eae1d525b64caa9ca4539d1b90f2ba",
    "deepnote_cell_type": "code",
    "deepnote_to_be_reexecuted": false,
    "execution_millis": 314,
    "execution_start": 1664403002066,
    "scrolled": true,
    "source_hash": "c433ecf6"
   },
   "outputs": [
    {
     "name": "stdout",
     "output_type": "stream",
     "text": [
      "+--------+-----+\n",
      "|    word|count|\n",
      "+--------+-----+\n",
      "|     rat|    2|\n",
      "|     cat|    2|\n",
      "|elephant|    1|\n",
      "+--------+-----+\n",
      "\n"
     ]
    }
   ],
   "source": [
    "# TODO: Replace <FILL IN> with appropriate code\n",
    "\n",
    "def wordCount(wordListDF):\n",
    "    \"\"\"Creates a DataFrame with word counts.\n",
    "\n",
    "    Args:\n",
    "        wordListDF (DataFrame of str): A DataFrame consisting of one string column called 'word'.\n",
    "\n",
    "    Returns:\n",
    "        DataFrame of (str, int): A DataFrame containing 'word' and 'count' columns.\n",
    "    \"\"\"\n",
    "    return wordListDF.groupBy(\"word\").count()\n",
    "\n",
    "wordCount(wordsDF).show()"
   ]
  },
  {
   "cell_type": "markdown",
   "metadata": {
    "cell_id": "02bac133686548a28112782c2ae25735",
    "deepnote_cell_type": "markdown"
   },
   "source": [
    "### Test (4a)"
   ]
  },
  {
   "cell_type": "code",
   "execution_count": 17,
   "metadata": {
    "cell_id": "a3c0390562d246afa300d60a8f205cc7",
    "deepnote_cell_type": "code",
    "deepnote_to_be_reexecuted": false,
    "execution_millis": 216,
    "execution_start": 1664403002456,
    "scrolled": true,
    "source_hash": "fca220e3"
   },
   "outputs": [
    {
     "name": "stdout",
     "output_type": "stream",
     "text": [
      "1 test passed.\n"
     ]
    }
   ],
   "source": [
    "# TEST wordCount function (4a)\n",
    "res = [(row[0], row[1]) for row in wordCount(wordsDF).collect()]\n",
    "testmti850.Test.assertEquals(sorted(res),\n",
    "                  [('cat', 2), ('elephant', 1), ('rat', 2)],\n",
    "                  'incorrect definition for wordCountDF function')"
   ]
  },
  {
   "cell_type": "markdown",
   "metadata": {
    "cell_id": "7aae0ca22b5248339dd31cea3c8461f0",
    "deepnote_cell_type": "markdown"
   },
   "source": [
    "### (4b) Capitalization and punctuation\n",
    " \n",
    "Real world files are more complicated than the data we have been using in this lab. Some of the issues we have to address are:\n",
    "   + Words should be counted independent of their capitialization (e.g., Spark and spark should be counted as the same word).\n",
    "   + All punctuation should be removed.\n",
    "   + Any leading or trailing spaces on a line should be removed.\n",
    " \n",
    "Define the function `removePunctuation` that converts all text to lower case, removes any punctuation, and removes leading and trailing spaces.  Use the Python [regexp_replace](http://spark.apache.org/docs/3.0.0/api/python/pyspark.sql.html#pyspark.sql.functions.regexp_replace) module to remove any text that is not a letter, number, or space. If you are unfamiliar with regular expressions, you may want to review [this tutorial](https://developers.google.com/edu/python/regular-expressions) from Google.  Also, [this website](https://regex101.com/#python) is  a great resource for debugging your regular expression.\n",
    " \n",
    "You should also use the `trim` and `lower` functions found in [pyspark.sql.functions](http://spark.apache.org/docs/3.0.0/api/python/pyspark.sql.html#pyspark.sql.functions).\n",
    " \n",
    "> Note that you shouldn't use any RDD operations or need to create custom user defined functions (udfs) to accomplish this task\n"
   ]
  },
  {
   "cell_type": "code",
   "execution_count": 18,
   "metadata": {
    "cell_id": "e2b7f32e39454e1d88f6760c1a82fbfb",
    "deepnote_cell_type": "code",
    "deepnote_to_be_reexecuted": false,
    "execution_millis": 489,
    "execution_start": 1664403002672,
    "scrolled": true,
    "source_hash": "931924fa"
   },
   "outputs": [
    {
     "name": "stdout",
     "output_type": "stream",
     "text": [
      "+------------------------------------------+\n",
      "|sentence                                  |\n",
      "+------------------------------------------+\n",
      "|Hi, you!                                  |\n",
      "| No under_score!                          |\n",
      "| *      Remove punctuation then spaces  * |\n",
      "+------------------------------------------+\n",
      "\n",
      "+------------------------------+\n",
      "|sentence                      |\n",
      "+------------------------------+\n",
      "|hi you                        |\n",
      "|no underscore                 |\n",
      "|remove punctuation then spaces|\n",
      "+------------------------------+\n",
      "\n"
     ]
    }
   ],
   "source": [
    "# TODO: Replace <FILL IN> with appropriate code\n",
    "from pyspark.sql.functions import regexp_replace, trim, col, lower\n",
    "import re\n",
    "\n",
    "\n",
    "\n",
    "def removePunctuation(column):\n",
    "    \"\"\"Removes punctuation, changes to lower case, and strips leading and trailing spaces.\n",
    "\n",
    "    Note:\n",
    "        Only spaces, letters, and numbers should be retained.  Other characters should should be\n",
    "        eliminated (e.g. it's becomes its).  Leading and trailing spaces should be removed after\n",
    "        punctuation is removed.\n",
    "\n",
    "    Args:\n",
    "        column (Column): A Column containing a sentence.\n",
    "\n",
    "    Returns:\n",
    "        Column: A Column named 'sentence' with clean-up operations applied.\n",
    "    \"\"\"\n",
    "    \n",
    "    return lower(trim(regexp_replace(column,'[^A-Za-z0-9 ]+',''))).alias('sentence')\n",
    "    \n",
    "    \n",
    "    \n",
    "sentenceDF = spark.createDataFrame([('Hi, you!',),\n",
    "                                         (' No under_score!',),\n",
    "                                         (' *      Remove punctuation then spaces  * ',)], ['sentence'])\n",
    "sentenceDF.show(truncate=False)\n",
    "\n",
    "(sentenceDF\n",
    " .select(removePunctuation(col('sentence')))\n",
    " .show(truncate=False))"
   ]
  },
  {
   "cell_type": "markdown",
   "metadata": {
    "cell_id": "fb598f59ee8241639399d3582bf20b42",
    "deepnote_cell_type": "markdown"
   },
   "source": [
    "### Test (4b)"
   ]
  },
  {
   "cell_type": "code",
   "execution_count": 19,
   "metadata": {
    "cell_id": "9735363dec1b4d87ab2f604a39363f19",
    "deepnote_cell_type": "code",
    "deepnote_to_be_reexecuted": false,
    "execution_millis": 197,
    "execution_start": 1664403003167,
    "source_hash": "db6c2030"
   },
   "outputs": [
    {
     "name": "stdout",
     "output_type": "stream",
     "text": [
      "1 test passed.\n"
     ]
    }
   ],
   "source": [
    "# TEST Capitalization and punctuation (4b)\n",
    "testPunctDF = spark.createDataFrame([(\" The Elephant's 4 cats. \",)])\n",
    "testmti850.Test.assertEquals(testPunctDF.select(removePunctuation(col('_1'))).first()[0],\n",
    "                  'the elephants 4 cats',\n",
    "                  'incorrect definition for removePunctuation function')"
   ]
  },
  {
   "cell_type": "markdown",
   "metadata": {
    "cell_id": "ad64981997ca4c8abd1b85f6227da2e1",
    "deepnote_cell_type": "markdown"
   },
   "source": [
    "## (4c) Load a text file\n",
    " \n",
    "For the next part of this lab, we will use the [Complete Works of William Shakespeare](http://www.gutenberg.org/ebooks/100) from [Project Gutenberg](http://www.gutenberg.org/wiki/Main_Page). To convert a text file into a DataFrame, we use the `sqlContext.read.text()` method. We also apply the recently defined `removePunctuation()` function using a `select()` transformation to strip out the punctuation and change all text to lower case.  Since the file is large we use `show(15)`, so that we only print 15 lines.\n"
   ]
  },
  {
   "cell_type": "code",
   "execution_count": 20,
   "metadata": {
    "cell_id": "17019e6a33c3434ba16152f56f43ff49",
    "deepnote_cell_type": "code",
    "deepnote_to_be_reexecuted": false,
    "execution_millis": 1702,
    "execution_start": 1664403003368,
    "scrolled": true,
    "source_hash": "398f78cc"
   },
   "outputs": [
    {
     "name": "stdout",
     "output_type": "stream",
     "text": [
      "+-----------------------------------------------------------------------------------+\n",
      "|sentence                                                                           |\n",
      "+-----------------------------------------------------------------------------------+\n",
      "|project gutenbergs the complete works of william shakespeare by william shakespeare|\n",
      "|                                                                                   |\n",
      "|this ebook is for the use of anyone anywhere in the united states and              |\n",
      "|most other parts of the world at no cost and with almost no restrictions           |\n",
      "|whatsoever  you may copy it give it away or reuse it under the terms               |\n",
      "|of the project gutenberg license included with this ebook or online at             |\n",
      "|wwwgutenbergorg  if you are not located in the united states youll                 |\n",
      "|have to check the laws of the country where you are located before using           |\n",
      "|this ebook                                                                         |\n",
      "|                                                                                   |\n",
      "|                                                                                   |\n",
      "|title the complete works of william shakespeare                                    |\n",
      "|                                                                                   |\n",
      "|author william shakespeare                                                         |\n",
      "|                                                                                   |\n",
      "+-----------------------------------------------------------------------------------+\n",
      "only showing top 15 rows\n",
      "\n"
     ]
    }
   ],
   "source": [
    "#fileName = \"hdfs://localhost:9000/shakespeare.txt\"\n",
    "fileName = \"shakespeare.txt\"\n",
    "\n",
    "shakespeareDF = spark.read.text(fileName).select(removePunctuation(col('value')))\n",
    "\n",
    "shakespeareDF.show(15, truncate=False)\n"
   ]
  },
  {
   "cell_type": "code",
   "execution_count": 21,
   "metadata": {
    "cell_id": "63a7f50135b542d58ad66f2d2bbf3e6d",
    "deepnote_cell_type": "code",
    "deepnote_to_be_reexecuted": false,
    "execution_millis": 777,
    "execution_start": 1664403004297,
    "source_hash": "3c23f81a"
   },
   "outputs": [
    {
     "data": {
      "text/html": [
       "<div>\n",
       "<style scoped>\n",
       "    .dataframe tbody tr th:only-of-type {\n",
       "        vertical-align: middle;\n",
       "    }\n",
       "\n",
       "    .dataframe tbody tr th {\n",
       "        vertical-align: top;\n",
       "    }\n",
       "\n",
       "    .dataframe thead th {\n",
       "        text-align: right;\n",
       "    }\n",
       "</style>\n",
       "<table border=\"1\" class=\"dataframe\">\n",
       "  <thead>\n",
       "    <tr style=\"text-align: right;\">\n",
       "      <th></th>\n",
       "      <th>sentence</th>\n",
       "    </tr>\n",
       "  </thead>\n",
       "  <tbody>\n",
       "    <tr>\n",
       "      <th>0</th>\n",
       "      <td>project gutenbergs the complete works of willi...</td>\n",
       "    </tr>\n",
       "    <tr>\n",
       "      <th>1</th>\n",
       "      <td></td>\n",
       "    </tr>\n",
       "    <tr>\n",
       "      <th>2</th>\n",
       "      <td>this ebook is for the use of anyone anywhere i...</td>\n",
       "    </tr>\n",
       "    <tr>\n",
       "      <th>3</th>\n",
       "      <td>most other parts of the world at no cost and w...</td>\n",
       "    </tr>\n",
       "    <tr>\n",
       "      <th>4</th>\n",
       "      <td>whatsoever  you may copy it give it away or re...</td>\n",
       "    </tr>\n",
       "  </tbody>\n",
       "</table>\n",
       "</div>"
      ],
      "text/plain": [
       "                                            sentence\n",
       "0  project gutenbergs the complete works of willi...\n",
       "1                                                   \n",
       "2  this ebook is for the use of anyone anywhere i...\n",
       "3  most other parts of the world at no cost and w...\n",
       "4  whatsoever  you may copy it give it away or re..."
      ]
     },
     "execution_count": 21,
     "metadata": {},
     "output_type": "execute_result"
    }
   ],
   "source": [
    "shakespeareDF.limit(10).toPandas().head()"
   ]
  },
  {
   "cell_type": "markdown",
   "metadata": {
    "cell_id": "a815ab475c2540f499884cd1826b8b42",
    "deepnote_cell_type": "markdown"
   },
   "source": [
    "### (4d) Words from lines\n",
    " \n",
    "Before we can use the `wordcount()` function, we have to address two issues with the format of the DataFrame:\n",
    "   + The first issue is that  that we need to split each line by its spaces.\n",
    "   + The second issue is we need to filter out empty lines or words.\n",
    " \n",
    "Apply a transformation that will split each 'sentence' in the DataFrame by its spaces, and then transform from a DataFrame that contains lists of words into a DataFrame with each word in its own row.  To accomplish these two tasks you can use the `split` and `explode` functions found in [pyspark.sql.functions](http://spark.apache.org/docs/3.0.0/api/python/pyspark.sql.html#pyspark.sql.functions).\n",
    " \n",
    "Once you have a DataFrame with one word per row you can apply the [DataFrame operation `where`](http://spark.apache.org/docs/3.0.0/api/python/pyspark.sql.html#pyspark.sql.DataFrame.where) to remove the rows that contain ''.\n",
    "\n",
    "> Note that `shakeWordsDF` should be a DataFrame with one column named `word`."
   ]
  },
  {
   "cell_type": "code",
   "execution_count": 22,
   "metadata": {
    "cell_id": "cce16a016e9e44d09860f891d96cb35f",
    "deepnote_cell_type": "code",
    "deepnote_to_be_reexecuted": false,
    "execution_millis": 2207,
    "execution_start": 1664403004484,
    "scrolled": true,
    "source_hash": "611d1d8a"
   },
   "outputs": [
    {
     "name": "stdout",
     "output_type": "stream",
     "text": [
      "+-----------+\n",
      "|       word|\n",
      "+-----------+\n",
      "|    project|\n",
      "| gutenbergs|\n",
      "|        the|\n",
      "|   complete|\n",
      "|      works|\n",
      "|         of|\n",
      "|    william|\n",
      "|shakespeare|\n",
      "|         by|\n",
      "|    william|\n",
      "|shakespeare|\n",
      "|       this|\n",
      "|      ebook|\n",
      "|         is|\n",
      "|        for|\n",
      "|        the|\n",
      "|        use|\n",
      "|         of|\n",
      "|     anyone|\n",
      "|   anywhere|\n",
      "+-----------+\n",
      "only showing top 20 rows\n",
      "\n",
      "961306\n"
     ]
    }
   ],
   "source": [
    "# TODO: Replace <FILL IN> with appropriate code\n",
    "from pyspark.sql.functions import split, explode\n",
    "\n",
    "shakeWordsDF = (shakespeareDF.select(explode(split(shakespeareDF.sentence, \" \").alias('word'))))\n",
    "\n",
    "shakeWordsDF = shakeWordsDF.filter(shakeWordsDF.col != \"\")\n",
    "shakeWordsDF = shakeWordsDF.withColumnRenamed(\"col\",\"word\")\n",
    "\n",
    "shakeWordsDF.show()\n",
    "\n",
    "shakeWordsDFCount = shakeWordsDF.count()\n",
    "\n",
    "print (shakeWordsDFCount)"
   ]
  },
  {
   "cell_type": "markdown",
   "metadata": {
    "cell_id": "5a3de764834c4f9daa226cd58474ef97",
    "deepnote_cell_type": "markdown"
   },
   "source": [
    "### Test (4d)"
   ]
  },
  {
   "cell_type": "code",
   "execution_count": 23,
   "metadata": {
    "cell_id": "a6ab0692faec4781bb754d3eacb65b16",
    "deepnote_cell_type": "code",
    "deepnote_to_be_reexecuted": false,
    "execution_millis": 1337,
    "execution_start": 1664403006756,
    "source_hash": "d0c97b8c"
   },
   "outputs": [
    {
     "name": "stdout",
     "output_type": "stream",
     "text": [
      "1 test passed.\n",
      "1 test passed.\n"
     ]
    }
   ],
   "source": [
    "# TEST Remove empty elements (4d)\n",
    "testmti850.Test.assertEquals(shakeWordsDF.count(), 961306, 'incorrect value for shakeWordCount')\n",
    "testmti850.Test.assertEquals(shakeWordsDF.columns, ['word'], \"shakeWordsDF should only contain the Column 'word'\")"
   ]
  },
  {
   "cell_type": "markdown",
   "metadata": {
    "cell_id": "0c1360381ea94a108a40fbc7478ee462",
    "deepnote_cell_type": "markdown"
   },
   "source": [
    "### (4e) Count the words\n",
    "\n",
    "We now have a DataFrame that is only words. Next, let's apply the `wordCount()` function to produce a list of word counts. We can view the first 20 words by using the `show()` action; however, we'd like to see the words in descending order of count, so we'll need to apply the [`orderBy` DataFrame method](http://spark.apache.org/docs/3.0.0/api/python/pyspark.sql.html#pyspark.sql.DataFrame.orderBy) to first sort the DataFrame that is returned from `wordCount()`.\n",
    "\n",
    "You'll notice that many of the words are common English words. These are called stopwords. In a later lab, we will see how to eliminate them from the results.\n"
   ]
  },
  {
   "cell_type": "code",
   "execution_count": 24,
   "metadata": {
    "cell_id": "457c453d980041fc9d71ad4ed77606a5",
    "deepnote_cell_type": "code",
    "deepnote_to_be_reexecuted": false,
    "execution_millis": 1127,
    "execution_start": 1664403114761,
    "scrolled": true,
    "source_hash": "78884896"
   },
   "outputs": [
    {
     "name": "stdout",
     "output_type": "stream",
     "text": [
      "+----+-----+\n",
      "|word|count|\n",
      "+----+-----+\n",
      "| the|30205|\n",
      "| and|28386|\n",
      "|   i|21949|\n",
      "|  to|20923|\n",
      "|  of|18822|\n",
      "|   a|16182|\n",
      "| you|14437|\n",
      "|  my|13180|\n",
      "|  in|12232|\n",
      "|that|11776|\n",
      "|  is| 9713|\n",
      "| not| 9066|\n",
      "|with| 8528|\n",
      "|  me| 8263|\n",
      "| for| 8195|\n",
      "|  it| 8180|\n",
      "| his| 7581|\n",
      "|  be| 7370|\n",
      "|this| 7178|\n",
      "|your| 7076|\n",
      "+----+-----+\n",
      "only showing top 20 rows\n",
      "\n"
     ]
    }
   ],
   "source": [
    "# TODO: Replace <FILL IN> with appropriate code\n",
    "from pyspark.sql.functions import desc\n",
    "\n",
    "topWordsAndCountsDF = wordCount(shakeWordsDF).orderBy(col(\"count\").desc())\n",
    "\n",
    "topWordsAndCountsDF.show()"
   ]
  },
  {
   "cell_type": "markdown",
   "metadata": {
    "cell_id": "2eef3aa7733b48f78933f7a16c9218b8",
    "deepnote_cell_type": "markdown"
   },
   "source": [
    "### Test (4e)"
   ]
  },
  {
   "cell_type": "code",
   "execution_count": 25,
   "metadata": {
    "cell_id": "238293514a55448cad6a4c0a8dc7e8d7",
    "deepnote_cell_type": "code",
    "deepnote_to_be_reexecuted": false,
    "execution_millis": 1108,
    "execution_start": 1664403118052,
    "source_hash": "92fc6f45"
   },
   "outputs": [
    {
     "name": "stdout",
     "output_type": "stream",
     "text": [
      "1 test passed.\n"
     ]
    }
   ],
   "source": [
    "# TEST Count the words (4e)\n",
    "testmti850.Test.assertEquals(topWordsAndCountsDF.take(15),\n",
    "                  [(u'the', 30205), (u'and', 28386), (u'i', 21949), (u'to', 20923), (u'of', 18822),\n",
    "                   (u'a', 16182), (u'you', 14437), (u'my', 13180), (u'in', 12232), (u'that', 11776),\n",
    "                   (u'is', 9713), (u'not', 9066), (u'with', 8528), (u'me', 8263), (u'for', 8195)],\n",
    "                  'incorrect value for top15WordsAndCountsDF')"
   ]
  },
  {
   "cell_type": "markdown",
   "metadata": {
    "cell_id": "d36ece05b7b9409785a22eb38c031092",
    "deepnote_cell_type": "markdown"
   },
   "source": [
    "<a rel=\"license\" href=\"http://creativecommons.org/licenses/by-nc-nd/4.0/\"><img alt=\"Creative Commons License\" style=\"border-width:0\" src=\"https://i.creativecommons.org/l/by-nc-nd/4.0/88x31.png\" /></a><br />Adapted from Databricks notebooks. This work is licensed under a <a rel=\"license\" href=\"http://creativecommons.org/licenses/by-nc-nd/4.0/\">Creative Commons Attribution-NonCommercial-NoDerivatives 4.0 International License</a>."
   ]
  },
  {
   "cell_type": "markdown",
   "metadata": {
    "created_in_deepnote_cell": true,
    "deepnote_cell_type": "markdown",
    "tags": []
   },
   "source": [
    "<a style='text-decoration:none;line-height:16px;display:flex;color:#5B5B62;padding:10px;justify-content:end;' href='https://deepnote.com?utm_source=created-in-deepnote-cell&projectId=f3e36fb3-ac28-4ed6-af6f-c82db9d8acf7' target=\"_blank\">\n",
    "<img alt='Created in deepnote.com' style='display:inline;max-height:16px;margin:0px;margin-right:7.5px;' src='data:image/svg+xml;base64,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' > </img>\n",
    "Created in <span style='font-weight:600;margin-left:4px;'>Deepnote</span></a>"
   ]
  }
 ],
 "metadata": {
  "deepnote": {},
  "deepnote_execution_queue": [],
  "deepnote_notebook_id": "ca65a9c9df324d818618dc2502e3fb01",
  "kernelspec": {
   "display_name": "Python 3",
   "language": "python",
   "name": "python3"
  },
  "language_info": {
   "codemirror_mode": {
    "name": "ipython",
    "version": 3
   },
   "file_extension": ".py",
   "mimetype": "text/x-python",
   "name": "python",
   "nbconvert_exporter": "python",
   "pygments_lexer": "ipython3",
   "version": "3.8.3"
  }
 },
 "nbformat": 4,
 "nbformat_minor": 1
}
